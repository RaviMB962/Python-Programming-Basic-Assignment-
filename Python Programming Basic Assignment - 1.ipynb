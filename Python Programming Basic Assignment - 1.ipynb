{
 "cells": [
  {
   "cell_type": "markdown",
   "id": "96781e6e",
   "metadata": {},
   "source": [
    "## Python Programming Basic Assignment - 1"
   ]
  },
  {
   "cell_type": "markdown",
   "id": "ff9b5067",
   "metadata": {},
   "source": [
    "## 1. Write a Python program to print &quot;Hello Python&quot;?"
   ]
  },
  {
   "cell_type": "code",
   "execution_count": 1,
   "id": "f803e26f",
   "metadata": {},
   "outputs": [
    {
     "name": "stdout",
     "output_type": "stream",
     "text": [
      "Hello Python\n"
     ]
    }
   ],
   "source": [
    "print(\"Hello Python\")"
   ]
  },
  {
   "cell_type": "markdown",
   "id": "b560c69c",
   "metadata": {},
   "source": [
    "## 2. Write a Python program to do arithmetical operations addition and division.?"
   ]
  },
  {
   "cell_type": "code",
   "execution_count": 1,
   "id": "5f58a6fb",
   "metadata": {},
   "outputs": [
    {
     "name": "stdout",
     "output_type": "stream",
     "text": [
      "Select below opration:         \n",
      "1. (+) for addition         \n",
      "2. (/) for division         \n",
      "3. Stop to stop operation\n",
      "Enter Operator-->+\n",
      "\n",
      "Enter 1st Number: 20\n",
      "Enter 2nd Number: 10\n",
      "20+10=30\n",
      "\n",
      "Enter Operator-->/\n",
      "\n",
      "Enter 1st Number: 20\n",
      "Enter 2nd Number: 10\n",
      "20/10=2.0\n",
      "\n",
      "Enter Operator-->stop\n",
      "Arithmetical operations Ended\n"
     ]
    }
   ],
   "source": [
    "import operator\n",
    "\n",
    "ops = { \"+\": operator.add, \"-\": operator.sub, \"*\":operator.mul, \"/\":operator.truediv } \n",
    "\n",
    "print('Select below opration: \\\n",
    "        \\n1. (+) for addition \\\n",
    "        \\n2. (/) for division \\\n",
    "        \\n3. Stop to stop operation')\n",
    "\n",
    "while True:\n",
    "    operator  = input (\"Enter Operator-->\")\n",
    "    if operator == \"stop\":\n",
    "        print(\"Arithmetical operations Ended\")\n",
    "        break\n",
    "    elif operator not in ['+','/']:\n",
    "        print(\"Enter Valid Operator\")\n",
    "    else:\n",
    "        num1 = int(input('\\nEnter 1st Number: '))\n",
    "        num2 = int(input('Enter 2nd Number: '))\n",
    "        print('{}{}{}={}\\n'.format (num1, operator, num2, ops[operator](num1,num2)))"
   ]
  },
  {
   "cell_type": "markdown",
   "id": "29553389",
   "metadata": {},
   "source": [
    "## 3. Write a Python program to find the area of a triangle?"
   ]
  },
  {
   "cell_type": "code",
   "execution_count": 4,
   "id": "a2058e59",
   "metadata": {},
   "outputs": [
    {
     "name": "stdout",
     "output_type": "stream",
     "text": [
      "Enter height of triangle:10\n",
      "Enter base of triangle3\n",
      "Area of Triangle 15.0\n"
     ]
    }
   ],
   "source": [
    "height = int(input(\"Enter height of triangle:\"))\n",
    "base = int(input(\"Enter base of triangle\"))\n",
    "\n",
    "area = (height*base)/2\n",
    "\n",
    "print(\"Area of Triangle\", area)"
   ]
  },
  {
   "cell_type": "markdown",
   "id": "6a4a36b6",
   "metadata": {},
   "source": [
    "## 4. Write a Python program to swap two variables?"
   ]
  },
  {
   "cell_type": "markdown",
   "id": "509a98dc",
   "metadata": {},
   "source": [
    "A simple swap function in Python is generally considered a function that takes two initialized variables, a = val_a and b = val_b, and returns a result of a = val_b and b = val_a"
   ]
  },
  {
   "cell_type": "code",
   "execution_count": 11,
   "id": "c51d944e",
   "metadata": {},
   "outputs": [
    {
     "name": "stdout",
     "output_type": "stream",
     "text": [
      "Before swapping -> 25 30\n",
      "After swapping ->  30 25\n"
     ]
    }
   ],
   "source": [
    "\n",
    "number1 = 25\n",
    "number2 = 30\n",
    "\n",
    "print('Before swapping ->', number1, number2)\n",
    "number1, number2 = number2, number1\n",
    "print('After swapping -> ', number1, number2)\n"
   ]
  },
  {
   "cell_type": "markdown",
   "id": "b23f2e33",
   "metadata": {},
   "source": [
    "## 5. Write a Python program to generate a random number?"
   ]
  },
  {
   "cell_type": "code",
   "execution_count": 26,
   "id": "d518ff23",
   "metadata": {},
   "outputs": [
    {
     "name": "stdout",
     "output_type": "stream",
     "text": [
      "4\n"
     ]
    }
   ],
   "source": [
    "import random\n",
    "x = random.randint(0,20)\n",
    "print(x)"
   ]
  }
 ],
 "metadata": {
  "kernelspec": {
   "display_name": "Python 3",
   "language": "python",
   "name": "python3"
  },
  "language_info": {
   "codemirror_mode": {
    "name": "ipython",
    "version": 3
   },
   "file_extension": ".py",
   "mimetype": "text/x-python",
   "name": "python",
   "nbconvert_exporter": "python",
   "pygments_lexer": "ipython3",
   "version": "3.8.8"
  }
 },
 "nbformat": 4,
 "nbformat_minor": 5
}
