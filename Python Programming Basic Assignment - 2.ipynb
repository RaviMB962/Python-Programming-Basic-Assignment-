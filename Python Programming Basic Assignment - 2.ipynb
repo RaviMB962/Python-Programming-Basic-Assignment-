{
 "cells": [
  {
   "cell_type": "markdown",
   "id": "6f9ec1d7",
   "metadata": {},
   "source": [
    "## Python Programming Basic Assignment - 2"
   ]
  },
  {
   "cell_type": "markdown",
   "id": "464115de",
   "metadata": {},
   "source": [
    "## 1. Write a Python program to convert kilometers to miles?"
   ]
  },
  {
   "cell_type": "code",
   "execution_count": 17,
   "id": "4dc310df",
   "metadata": {},
   "outputs": [
    {
     "name": "stdout",
     "output_type": "stream",
     "text": [
      "Enter km:50\n",
      "50.0km in mile is 31.05\n"
     ]
    }
   ],
   "source": [
    "k = float(input(\"Enter km:\"))\n",
    "## 1 mile = 1.609 km, \n",
    "print(\"{}km in mile is {}\".format (k, k*0.621))"
   ]
  },
  {
   "cell_type": "markdown",
   "id": "2db05735",
   "metadata": {},
   "source": [
    "## 2. Write a Python program to convert Celsius to Fahrenheit?"
   ]
  },
  {
   "cell_type": "code",
   "execution_count": 21,
   "id": "3c9460cf",
   "metadata": {},
   "outputs": [
    {
     "name": "stdout",
     "output_type": "stream",
     "text": [
      "Enter temperature in Celsius: 6\n",
      "Given temperature 6.0 Celsius is equal to 42.8 Fahrenheit.\n"
     ]
    }
   ],
   "source": [
    "c = float(input(\"Enter temperature in Celsius: \"))\n",
    "\n",
    "f = (c*1.8)+32\n",
    "\n",
    "print(\"Given temperature {} Celsius is equal to {} Fahrenheit.\".format (c, f))"
   ]
  },
  {
   "cell_type": "markdown",
   "id": "f2439dd8",
   "metadata": {},
   "source": [
    "## 3. Write a Python program to display calendar?"
   ]
  },
  {
   "cell_type": "code",
   "execution_count": 7,
   "id": "ec80b1b3",
   "metadata": {},
   "outputs": [
    {
     "name": "stdout",
     "output_type": "stream",
     "text": [
      " Enter Year : 2022\n",
      "Enter Month : 2\n",
      "Calender\n",
      "   February 2022\n",
      "Mo Tu We Th Fr Sa Su\n",
      "    1  2  3  4  5  6\n",
      " 7  8  9 10 11 12 13\n",
      "14 15 16 17 18 19 20\n",
      "21 22 23 24 25 26 27\n",
      "28\n",
      "\n"
     ]
    }
   ],
   "source": [
    "import calendar\n",
    "\n",
    "year = int(input(\" Enter Year : \"))\n",
    "month = int(input(\"Enter Month : \"))\n",
    "\n",
    "try :\n",
    "    mycal = calendar.month(year,month)\n",
    "    print(\"Calender\")\n",
    "    print(mycal)\n",
    "except:\n",
    "    print(\"Out of range\")"
   ]
  },
  {
   "cell_type": "code",
   "execution_count": 6,
   "id": "430fa318",
   "metadata": {},
   "outputs": [
    {
     "name": "stdout",
     "output_type": "stream",
     "text": [
      "Enter Year here: 2022\n",
      "                                  2022\n",
      "\n",
      "      January                   February                   March\n",
      "Mo Tu We Th Fr Sa Su      Mo Tu We Th Fr Sa Su      Mo Tu We Th Fr Sa Su\n",
      "                1  2          1  2  3  4  5  6          1  2  3  4  5  6\n",
      " 3  4  5  6  7  8  9       7  8  9 10 11 12 13       7  8  9 10 11 12 13\n",
      "10 11 12 13 14 15 16      14 15 16 17 18 19 20      14 15 16 17 18 19 20\n",
      "17 18 19 20 21 22 23      21 22 23 24 25 26 27      21 22 23 24 25 26 27\n",
      "24 25 26 27 28 29 30      28                        28 29 30 31\n",
      "31\n",
      "\n",
      "       April                      May                       June\n",
      "Mo Tu We Th Fr Sa Su      Mo Tu We Th Fr Sa Su      Mo Tu We Th Fr Sa Su\n",
      "             1  2  3                         1             1  2  3  4  5\n",
      " 4  5  6  7  8  9 10       2  3  4  5  6  7  8       6  7  8  9 10 11 12\n",
      "11 12 13 14 15 16 17       9 10 11 12 13 14 15      13 14 15 16 17 18 19\n",
      "18 19 20 21 22 23 24      16 17 18 19 20 21 22      20 21 22 23 24 25 26\n",
      "25 26 27 28 29 30         23 24 25 26 27 28 29      27 28 29 30\n",
      "                          30 31\n",
      "\n",
      "        July                     August                  September\n",
      "Mo Tu We Th Fr Sa Su      Mo Tu We Th Fr Sa Su      Mo Tu We Th Fr Sa Su\n",
      "             1  2  3       1  2  3  4  5  6  7                1  2  3  4\n",
      " 4  5  6  7  8  9 10       8  9 10 11 12 13 14       5  6  7  8  9 10 11\n",
      "11 12 13 14 15 16 17      15 16 17 18 19 20 21      12 13 14 15 16 17 18\n",
      "18 19 20 21 22 23 24      22 23 24 25 26 27 28      19 20 21 22 23 24 25\n",
      "25 26 27 28 29 30 31      29 30 31                  26 27 28 29 30\n",
      "\n",
      "      October                   November                  December\n",
      "Mo Tu We Th Fr Sa Su      Mo Tu We Th Fr Sa Su      Mo Tu We Th Fr Sa Su\n",
      "                1  2          1  2  3  4  5  6                1  2  3  4\n",
      " 3  4  5  6  7  8  9       7  8  9 10 11 12 13       5  6  7  8  9 10 11\n",
      "10 11 12 13 14 15 16      14 15 16 17 18 19 20      12 13 14 15 16 17 18\n",
      "17 18 19 20 21 22 23      21 22 23 24 25 26 27      19 20 21 22 23 24 25\n",
      "24 25 26 27 28 29 30      28 29 30                  26 27 28 29 30 31\n",
      "31\n",
      "\n"
     ]
    }
   ],
   "source": [
    "import calendar\n",
    "\n",
    "Year = int(input(\"Enter Year here: \"))\n",
    "print(calendar.calendar(Year))"
   ]
  },
  {
   "cell_type": "markdown",
   "id": "8ff8151a",
   "metadata": {},
   "source": [
    "## 4. Write a Python program to solve quadratic equation?"
   ]
  },
  {
   "cell_type": "code",
   "execution_count": 6,
   "id": "2e67819c",
   "metadata": {},
   "outputs": [
    {
     "name": "stdout",
     "output_type": "stream",
     "text": [
      "General Form:- ax**2+bc+c =0\n",
      "Enter a (a!=0):2\n",
      "Enter b:3\n",
      "Enter c:4\n",
      "Results for equation 2x**2+ 3x + 4 =0, are:\n",
      "Type of Roots: Two Complex Real Roots\n",
      "The Solutions are (-0.75-1.1989578808281798j) and (-0.75+1.1989578808281798j)\n"
     ]
    }
   ],
   "source": [
    "# import complex math module\n",
    "import cmath\n",
    "\n",
    "print(\"General Form:- ax**2+bc+c =0\")\n",
    "\n",
    "a = int(input(\"Enter a (a!=0):\"))\n",
    "b = int(input(\"Enter b:\"))\n",
    "c = int(input(\"Enter c:\"))\n",
    "\n",
    "d = (b**2) - (4*a*c)\n",
    "\n",
    "\n",
    "sol1 = (-b-cmath.sqrt(d))/(2*a)\n",
    "sol2 = (-b+cmath.sqrt(d))/(2*a)\n",
    "\n",
    "print(\"Results for equation {}x**2+ {}x + {} =0, are:\" .format (a,b,c))\n",
    "\n",
    "if d>0: #Postive discriminant\n",
    "    print(\"Type of Roots: Two Distinct Real Roots\")\n",
    "elif d == 0:\n",
    "    print(\"Type of Roots: Two Equal Real Roots\")\n",
    "elif d<0:  #negetive discriminant \n",
    "    print(\"Type of Roots: Two Complex Real Roots\")\n",
    "    \n",
    "print(\"The Solutions are {} and {}\".format (sol1, sol2))"
   ]
  },
  {
   "cell_type": "markdown",
   "id": "69e6581b",
   "metadata": {},
   "source": [
    "## 5. Write a Python program to swap two variables without temp variable?"
   ]
  },
  {
   "cell_type": "code",
   "execution_count": 7,
   "id": "31f2a4a7",
   "metadata": {},
   "outputs": [
    {
     "name": "stdout",
     "output_type": "stream",
     "text": [
      "Before swapping -> 25 30\n",
      "After swapping ->  30 25\n"
     ]
    }
   ],
   "source": [
    "number1 = 25\n",
    "number2 = 30\n",
    "\n",
    "print('Before swapping ->', number1, number2)\n",
    "number1, number2 = number2, number1\n",
    "print('After swapping -> ', number1, number2)"
   ]
  },
  {
   "cell_type": "code",
   "execution_count": null,
   "id": "eb0cb0b2",
   "metadata": {},
   "outputs": [],
   "source": []
  }
 ],
 "metadata": {
  "kernelspec": {
   "display_name": "Python 3",
   "language": "python",
   "name": "python3"
  },
  "language_info": {
   "codemirror_mode": {
    "name": "ipython",
    "version": 3
   },
   "file_extension": ".py",
   "mimetype": "text/x-python",
   "name": "python",
   "nbconvert_exporter": "python",
   "pygments_lexer": "ipython3",
   "version": "3.8.8"
  }
 },
 "nbformat": 4,
 "nbformat_minor": 5
}
